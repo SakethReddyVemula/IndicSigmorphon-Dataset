{
 "cells": [
  {
   "cell_type": "code",
   "execution_count": 4,
   "metadata": {},
   "outputs": [
    {
     "name": "stdout",
     "output_type": "stream",
     "text": [
      "TSV file with word presence check created: english/WaD_en.tsv\n"
     ]
    }
   ],
   "source": [
    "import csv\n",
    "import nltk\n",
    "from nltk.corpus import wordnet as wn\n",
    "\n",
    "def load_corpus_as_set(corpus_file):\n",
    "    word_set = set()\n",
    "    with open(corpus_file, 'r', encoding='utf-8') as file:\n",
    "        for line in file:\n",
    "            words = line.strip().split()\n",
    "            word_set.update(words)\n",
    "    return word_set\n",
    "\n",
    "def extract_word_definition_pairs():\n",
    "    word_def_pairs = []\n",
    "\n",
    "    for synset in wn.all_synsets():\n",
    "        for lemma in synset.lemmas():\n",
    "            word = lemma.name()  # The word (lemma)\n",
    "            definition = synset.definition()  # The definition (from the synset)\n",
    "            word_def_pairs.append((word, definition))\n",
    "    \n",
    "    return word_def_pairs\n",
    "\n",
    "def create_tsv_with_presence_check(wordnet_data, corpus_file, output_file):\n",
    "    corpus_word_set = load_corpus_as_set(corpus_file)\n",
    "    word_def_pairs = extract_word_definition_pairs()\n",
    "\n",
    "    with open(output_file, 'w', newline='', encoding='utf-8') as tsv_file:\n",
    "        tsv_writer = csv.writer(tsv_file, delimiter='\\t')\n",
    "        tsv_writer.writerow(['index', 'word', 'definition', 'label'])\n",
    "\n",
    "        for index, (word, definition) in enumerate(word_def_pairs):\n",
    "            is_present = 1 if word in corpus_word_set else 0\n",
    "\n",
    "            if is_present == 0 and \" \" not in word and \"_\" not in word:\n",
    "                tsv_writer.writerow([index, word, definition, 1])\n",
    "\n",
    "corpus_file = '/media/saketh/New Volume/NAACL 2025/Datasets/en/en_10M_splits.txt'  # Your 4GB large corpus file\n",
    "output_file = 'english/WaD_en.tsv'\n",
    "\n",
    "create_tsv_with_presence_check(extract_word_definition_pairs(), corpus_file, output_file)\n",
    "\n",
    "print(f\"TSV file with word presence check created: {output_file}\")\n"
   ]
  },
  {
   "cell_type": "code",
   "execution_count": null,
   "metadata": {},
   "outputs": [],
   "source": []
  }
 ],
 "metadata": {
  "kernelspec": {
   "display_name": "Python 3",
   "language": "python",
   "name": "python3"
  },
  "language_info": {
   "codemirror_mode": {
    "name": "ipython",
    "version": 3
   },
   "file_extension": ".py",
   "mimetype": "text/x-python",
   "name": "python",
   "nbconvert_exporter": "python",
   "pygments_lexer": "ipython3",
   "version": "3.10.12"
  }
 },
 "nbformat": 4,
 "nbformat_minor": 2
}
