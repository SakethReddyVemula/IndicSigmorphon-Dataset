{
 "cells": [
  {
   "cell_type": "code",
   "execution_count": 1,
   "metadata": {},
   "outputs": [],
   "source": [
    "import pyiwn"
   ]
  },
  {
   "cell_type": "markdown",
   "metadata": {},
   "source": [
    "### Supported Languages"
   ]
  },
  {
   "cell_type": "code",
   "execution_count": 2,
   "metadata": {},
   "outputs": [
    {
     "data": {
      "text/plain": [
       "['Language.ASSAMESE',\n",
       " 'Language.BENGALI',\n",
       " 'Language.BODO',\n",
       " 'Language.GUJARATI',\n",
       " 'Language.HINDI',\n",
       " 'Language.KANNADA',\n",
       " 'Language.KASHMIRI',\n",
       " 'Language.KONKANI',\n",
       " 'Language.MALAYALAM',\n",
       " 'Language.MARATHI',\n",
       " 'Language.MEITEI',\n",
       " 'Language.NEPALI',\n",
       " 'Language.ORIYA',\n",
       " 'Language.PUNJABI',\n",
       " 'Language.SANSKRIT',\n",
       " 'Language.TAMIL',\n",
       " 'Language.TELUGU',\n",
       " 'Language.URDU']"
      ]
     },
     "execution_count": 2,
     "metadata": {},
     "output_type": "execute_result"
    }
   ],
   "source": [
    "list(map(str, pyiwn.Language))"
   ]
  },
  {
   "cell_type": "markdown",
   "metadata": {},
   "source": [
    "### Create a IndoWordNet class instance"
   ]
  },
  {
   "cell_type": "code",
   "execution_count": 3,
   "metadata": {},
   "outputs": [
    {
     "name": "stderr",
     "output_type": "stream",
     "text": [
      "2024-10-07:20:31:37,705 INFO     [iwn.py:43] Loading hindi language synsets...\n"
     ]
    }
   ],
   "source": [
    "# language defaults to Hindi\n",
    "iwn = pyiwn.IndoWordNet()\n",
    "\n",
    "# to use other language wordnet(s), use:\n",
    "# iwn = pyiwn.IndoWordNet(lang=pyiwn.Language.KANNADA)"
   ]
  },
  {
   "cell_type": "markdown",
   "metadata": {},
   "source": [
    "### Words\n",
    "\n",
    "Look up a word using synsets(); this function has an optional pos argument which lets you constrain the part of speech of the word:"
   ]
  },
  {
   "cell_type": "code",
   "execution_count": 4,
   "metadata": {},
   "outputs": [],
   "source": [
    "aam_all_synsets = iwn.synsets('आम')"
   ]
  },
  {
   "cell_type": "code",
   "execution_count": 5,
   "metadata": {},
   "outputs": [
    {
     "data": {
      "text/plain": [
       "[Synset('कच्चा.adjective.2283'),\n",
       " Synset('अधपका.adjective.2697'),\n",
       " Synset('आम.noun.3462'),\n",
       " Synset('आम.noun.3463'),\n",
       " Synset('सामान्य.adjective.3468'),\n",
       " Synset('सामूहिक.adjective.3469'),\n",
       " Synset('आँव.noun.6253'),\n",
       " Synset('आँव.noun.8446'),\n",
       " Synset('आम.adjective.39736')]"
      ]
     },
     "execution_count": 5,
     "metadata": {},
     "output_type": "execute_result"
    }
   ],
   "source": [
    "aam_all_synsets"
   ]
  },
  {
   "cell_type": "markdown",
   "metadata": {},
   "source": [
    "### Lookup synsets with POS tag"
   ]
  },
  {
   "cell_type": "code",
   "execution_count": 6,
   "metadata": {},
   "outputs": [
    {
     "data": {
      "text/plain": [
       "['PosTag.NOUN', 'PosTag.VERB', 'PosTag.ADVERB', 'PosTag.ADJECTIVE']"
      ]
     },
     "execution_count": 6,
     "metadata": {},
     "output_type": "execute_result"
    }
   ],
   "source": [
    "# POS\n",
    "list(map(str, pyiwn.PosTag))"
   ]
  },
  {
   "cell_type": "code",
   "execution_count": 7,
   "metadata": {},
   "outputs": [],
   "source": [
    "aam_synsets = iwn.synsets('आम', pos=pyiwn.PosTag.NOUN)"
   ]
  },
  {
   "cell_type": "code",
   "execution_count": 8,
   "metadata": {},
   "outputs": [
    {
     "data": {
      "text/plain": [
       "[Synset('आम.noun.3462'),\n",
       " Synset('आम.noun.3463'),\n",
       " Synset('आँव.noun.6253'),\n",
       " Synset('आँव.noun.8446')]"
      ]
     },
     "execution_count": 8,
     "metadata": {},
     "output_type": "execute_result"
    }
   ],
   "source": [
    "aam_synsets"
   ]
  },
  {
   "cell_type": "markdown",
   "metadata": {},
   "source": [
    "### Synsets"
   ]
  },
  {
   "cell_type": "code",
   "execution_count": 9,
   "metadata": {},
   "outputs": [],
   "source": [
    "# let's select the first synset of 'आम'\n",
    "aam = aam_synsets[0]"
   ]
  },
  {
   "cell_type": "code",
   "execution_count": 10,
   "metadata": {},
   "outputs": [
    {
     "data": {
      "text/plain": [
       "Synset('आम.noun.3462')"
      ]
     },
     "execution_count": 10,
     "metadata": {},
     "output_type": "execute_result"
    }
   ],
   "source": [
    "aam"
   ]
  },
  {
   "cell_type": "code",
   "execution_count": 11,
   "metadata": {},
   "outputs": [
    {
     "data": {
      "text/plain": [
       "3462"
      ]
     },
     "execution_count": 11,
     "metadata": {},
     "output_type": "execute_result"
    }
   ],
   "source": [
    "# Synset ID\n",
    "aam.synset_id()"
   ]
  },
  {
   "cell_type": "code",
   "execution_count": 12,
   "metadata": {},
   "outputs": [
    {
     "data": {
      "text/plain": [
       "'आम'"
      ]
     },
     "execution_count": 12,
     "metadata": {},
     "output_type": "execute_result"
    }
   ],
   "source": [
    "# Head word of the synset\n",
    "aam.head_word()"
   ]
  },
  {
   "cell_type": "code",
   "execution_count": 13,
   "metadata": {},
   "outputs": [
    {
     "data": {
      "text/plain": [
       "['आम',\n",
       " 'आम्र',\n",
       " 'अंब',\n",
       " 'अम्ब',\n",
       " 'आँब',\n",
       " 'आंब',\n",
       " 'रसाल',\n",
       " 'च्यूत',\n",
       " 'प्रियांबु',\n",
       " 'प्रियाम्बु',\n",
       " 'केशवायुध',\n",
       " 'कामायुध',\n",
       " 'कामशर',\n",
       " 'कामांग']"
      ]
     },
     "execution_count": 13,
     "metadata": {},
     "output_type": "execute_result"
    }
   ],
   "source": [
    "# list of string lemmas in the synset\n",
    "aam.lemma_names()"
   ]
  },
  {
   "cell_type": "code",
   "execution_count": 14,
   "metadata": {},
   "outputs": [
    {
     "data": {
      "text/plain": [
       "[Lemma('आम.noun.3462.आम'),\n",
       " Lemma('आम.noun.3462.आम्र'),\n",
       " Lemma('आम.noun.3462.अंब'),\n",
       " Lemma('आम.noun.3462.अम्ब'),\n",
       " Lemma('आम.noun.3462.आँब'),\n",
       " Lemma('आम.noun.3462.आंब'),\n",
       " Lemma('आम.noun.3462.रसाल'),\n",
       " Lemma('आम.noun.3462.च्यूत'),\n",
       " Lemma('आम.noun.3462.प्रियांबु'),\n",
       " Lemma('आम.noun.3462.प्रियाम्बु'),\n",
       " Lemma('आम.noun.3462.केशवायुध'),\n",
       " Lemma('आम.noun.3462.कामायुध'),\n",
       " Lemma('आम.noun.3462.कामशर'),\n",
       " Lemma('आम.noun.3462.कामांग')]"
      ]
     },
     "execution_count": 14,
     "metadata": {},
     "output_type": "execute_result"
    }
   ],
   "source": [
    "# list of Lemma type in the synset\n",
    "aam.lemmas()"
   ]
  },
  {
   "cell_type": "code",
   "execution_count": 15,
   "metadata": {},
   "outputs": [
    {
     "data": {
      "text/plain": [
       "'noun'"
      ]
     },
     "execution_count": 15,
     "metadata": {},
     "output_type": "execute_result"
    }
   ],
   "source": [
    "# POS tag of the synset\n",
    "aam.pos()"
   ]
  },
  {
   "cell_type": "code",
   "execution_count": 16,
   "metadata": {},
   "outputs": [
    {
     "data": {
      "text/plain": [
       "'एक फल जो खाया या चूसा जाता है'"
      ]
     },
     "execution_count": 16,
     "metadata": {},
     "output_type": "execute_result"
    }
   ],
   "source": [
    "# gloss / definition of the synset\n",
    "aam.gloss()"
   ]
  },
  {
   "cell_type": "code",
   "execution_count": 17,
   "metadata": {},
   "outputs": [
    {
     "data": {
      "text/plain": [
       "['तोता पेड़ पर बैठकर आम खा रहा है ।',\n",
       " 'शास्त्रों ने आम को इंद्रासनी फल की संज्ञा दी है ।']"
      ]
     },
     "execution_count": 17,
     "metadata": {},
     "output_type": "execute_result"
    }
   ],
   "source": [
    "# examples of the synset\n",
    "aam.examples()"
   ]
  },
  {
   "cell_type": "markdown",
   "metadata": {},
   "source": [
    "### Lemma"
   ]
  },
  {
   "cell_type": "code",
   "execution_count": 18,
   "metadata": {},
   "outputs": [],
   "source": [
    "# let's select first lemma of the 'aam' synset\n",
    "aam_lemma = aam.lemmas()[0]"
   ]
  },
  {
   "cell_type": "code",
   "execution_count": 19,
   "metadata": {},
   "outputs": [
    {
     "data": {
      "text/plain": [
       "Lemma('आम.noun.3462.आम')"
      ]
     },
     "execution_count": 19,
     "metadata": {},
     "output_type": "execute_result"
    }
   ],
   "source": [
    "aam_lemma"
   ]
  },
  {
   "cell_type": "code",
   "execution_count": 20,
   "metadata": {},
   "outputs": [
    {
     "data": {
      "text/plain": [
       "'आम'"
      ]
     },
     "execution_count": 20,
     "metadata": {},
     "output_type": "execute_result"
    }
   ],
   "source": [
    "aam_lemma.name()"
   ]
  },
  {
   "cell_type": "code",
   "execution_count": 21,
   "metadata": {},
   "outputs": [
    {
     "data": {
      "text/plain": [
       "Synset('आम.noun.3462')"
      ]
     },
     "execution_count": 21,
     "metadata": {},
     "output_type": "execute_result"
    }
   ],
   "source": [
    "aam_lemma.synset()"
   ]
  },
  {
   "cell_type": "markdown",
   "metadata": {},
   "source": [
    "### All synsets"
   ]
  },
  {
   "cell_type": "code",
   "execution_count": 22,
   "metadata": {},
   "outputs": [],
   "source": [
    "synsets = iwn.all_synsets()"
   ]
  },
  {
   "cell_type": "code",
   "execution_count": 23,
   "metadata": {},
   "outputs": [
    {
     "data": {
      "text/plain": [
       "40360"
      ]
     },
     "execution_count": 23,
     "metadata": {},
     "output_type": "execute_result"
    }
   ],
   "source": [
    "len(synsets)"
   ]
  },
  {
   "cell_type": "code",
   "execution_count": 24,
   "metadata": {},
   "outputs": [
    {
     "data": {
      "text/plain": [
       "[Synset('अजन्मा.adjective.1'),\n",
       " Synset('स्वयंभू.adjective.30168'),\n",
       " Synset('अशुभ.adjective.2'),\n",
       " Synset('अप्रविष्ट.adjective.3'),\n",
       " Synset('पवित्र स्थान.noun.4')]"
      ]
     },
     "execution_count": 24,
     "metadata": {},
     "output_type": "execute_result"
    }
   ],
   "source": [
    "synsets[:5]"
   ]
  },
  {
   "cell_type": "markdown",
   "metadata": {},
   "source": [
    "### All synsets filtered with POS tag"
   ]
  },
  {
   "cell_type": "code",
   "execution_count": 25,
   "metadata": {},
   "outputs": [],
   "source": [
    "noun_synsets = iwn.all_synsets(pos=pyiwn.PosTag.NOUN)"
   ]
  },
  {
   "cell_type": "code",
   "execution_count": 26,
   "metadata": {},
   "outputs": [
    {
     "data": {
      "text/plain": [
       "29846"
      ]
     },
     "execution_count": 26,
     "metadata": {},
     "output_type": "execute_result"
    }
   ],
   "source": [
    "len(noun_synsets)"
   ]
  },
  {
   "cell_type": "code",
   "execution_count": 27,
   "metadata": {},
   "outputs": [
    {
     "data": {
      "text/plain": [
       "[Synset('पवित्र स्थान.noun.4'),\n",
       " Synset('शिवालय.noun.5'),\n",
       " Synset('अपवित्र स्थान.noun.6'),\n",
       " Synset('नैतिक कार्य.noun.9'),\n",
       " Synset('दुश्चरित्रता.noun.11')]"
      ]
     },
     "execution_count": 27,
     "metadata": {},
     "output_type": "execute_result"
    }
   ],
   "source": [
    "noun_synsets[:5]"
   ]
  },
  {
   "cell_type": "markdown",
   "metadata": {},
   "source": [
    "### Words in a language's WordNet"
   ]
  },
  {
   "cell_type": "code",
   "execution_count": 28,
   "metadata": {},
   "outputs": [],
   "source": [
    "words = iwn.all_words()"
   ]
  },
  {
   "cell_type": "code",
   "execution_count": 29,
   "metadata": {},
   "outputs": [
    {
     "data": {
      "text/plain": [
       "105458"
      ]
     },
     "execution_count": 29,
     "metadata": {},
     "output_type": "execute_result"
    }
   ],
   "source": [
    "len(words)"
   ]
  },
  {
   "cell_type": "code",
   "execution_count": 30,
   "metadata": {},
   "outputs": [
    {
     "data": {
      "text/plain": [
       "['अजन्मा', 'अजात', 'अनुत्पन्न', 'अनुद्भूत', 'अप्रादुर्भूत']"
      ]
     },
     "execution_count": 30,
     "metadata": {},
     "output_type": "execute_result"
    }
   ],
   "source": [
    "words[:5]"
   ]
  },
  {
   "cell_type": "markdown",
   "metadata": {},
   "source": [
    "### Words filtered by POS Tag"
   ]
  },
  {
   "cell_type": "code",
   "execution_count": 31,
   "metadata": {},
   "outputs": [],
   "source": [
    "noun_words = iwn.all_words(pos=pyiwn.PosTag.NOUN)"
   ]
  },
  {
   "cell_type": "code",
   "execution_count": 32,
   "metadata": {},
   "outputs": [
    {
     "data": {
      "text/plain": [
       "82747"
      ]
     },
     "execution_count": 32,
     "metadata": {},
     "output_type": "execute_result"
    }
   ],
   "source": [
    "len(noun_words)"
   ]
  },
  {
   "cell_type": "code",
   "execution_count": 33,
   "metadata": {},
   "outputs": [
    {
     "data": {
      "text/plain": [
       "['हबशी', 'उदात्तीकरण', 'अपरा', 'उँजरी', 'रोशनाई']"
      ]
     },
     "execution_count": 33,
     "metadata": {},
     "output_type": "execute_result"
    }
   ],
   "source": [
    "noun_words[:5]"
   ]
  },
  {
   "cell_type": "markdown",
   "metadata": {},
   "source": [
    "### Synset Relations"
   ]
  },
  {
   "cell_type": "code",
   "execution_count": 34,
   "metadata": {},
   "outputs": [],
   "source": [
    "hyponyms = iwn.synset_relation(aam, pyiwn.SynsetRelations.HYPONYMY)"
   ]
  },
  {
   "cell_type": "code",
   "execution_count": 35,
   "metadata": {},
   "outputs": [
    {
     "data": {
      "text/plain": [
       "95"
      ]
     },
     "execution_count": 35,
     "metadata": {},
     "output_type": "execute_result"
    }
   ],
   "source": [
    "len(hyponyms)"
   ]
  },
  {
   "cell_type": "code",
   "execution_count": 36,
   "metadata": {},
   "outputs": [
    {
     "data": {
      "text/plain": [
       "[Synset('सफेदा.noun.1294'),\n",
       " Synset('अंबिया.noun.2888'),\n",
       " Synset('सिंदूरिया.noun.8636'),\n",
       " Synset('जरदालू.noun.4724'),\n",
       " Synset('तोतापरी.noun.6892')]"
      ]
     },
     "execution_count": 36,
     "metadata": {},
     "output_type": "execute_result"
    }
   ],
   "source": [
    "hyponyms[:5]"
   ]
  },
  {
   "cell_type": "markdown",
   "metadata": {},
   "source": [
    "### Supported Synset Relations"
   ]
  },
  {
   "cell_type": "code",
   "execution_count": 37,
   "metadata": {},
   "outputs": [
    {
     "data": {
      "text/plain": [
       "['SynsetRelations.MERO_MEMBER_COLLECTION',\n",
       " 'SynsetRelations.ABILITY_VERB',\n",
       " 'SynsetRelations.CAUSATIVE',\n",
       " 'SynsetRelations.CAPABILITY_VERB',\n",
       " 'SynsetRelations.MERO_COMPONENT_OBJECT',\n",
       " 'SynsetRelations.HOLO_PORTION_MASS',\n",
       " 'SynsetRelations.FUNCTION_VERB',\n",
       " 'SynsetRelations.HOLO_COMPONENT_OBJECT',\n",
       " 'SynsetRelations.HYPERNYMY',\n",
       " 'SynsetRelations.ENTAILMENT',\n",
       " 'SynsetRelations.ALSO_SEE',\n",
       " 'SynsetRelations.MERO_FEATURE_ACTIVITY',\n",
       " 'SynsetRelations.HOLO_PLACE_AREA',\n",
       " 'SynsetRelations.MODIFIES_VERB',\n",
       " 'SynsetRelations.ATTRIBUTES',\n",
       " 'SynsetRelations.MERO_PORTION_MASS',\n",
       " 'SynsetRelations.MODIFIES_NOUN',\n",
       " 'SynsetRelations.HOLO_FEATURE_ACTIVITY',\n",
       " 'SynsetRelations.MERO_STUFF_OBJECT',\n",
       " 'SynsetRelations.TROPONYMY',\n",
       " 'SynsetRelations.MERO_PLACE_AREA',\n",
       " 'SynsetRelations.HOLO_MEMBER_COLLECTION',\n",
       " 'SynsetRelations.HYPONYMY',\n",
       " 'SynsetRelations.SIMILAR',\n",
       " 'SynsetRelations.MERO_POSITION_AREA',\n",
       " 'SynsetRelations.HOLO_POSITION_AREA',\n",
       " 'SynsetRelations.HOLO_STUFF_OBJECT']"
      ]
     },
     "execution_count": 37,
     "metadata": {},
     "output_type": "execute_result"
    }
   ],
   "source": [
    "list(map(str, pyiwn.SynsetRelations))"
   ]
  },
  {
   "cell_type": "markdown",
   "metadata": {},
   "source": [
    "### Other language WordNet"
   ]
  },
  {
   "cell_type": "code",
   "execution_count": 38,
   "metadata": {},
   "outputs": [
    {
     "name": "stderr",
     "output_type": "stream",
     "text": [
      "2024-10-07:20:32:01,494 INFO     [iwn.py:43] Loading kannada language synsets...\n"
     ]
    }
   ],
   "source": [
    "kannada_iwn = pyiwn.IndoWordNet(lang=pyiwn.Language.KANNADA)"
   ]
  },
  {
   "cell_type": "code",
   "execution_count": 39,
   "metadata": {},
   "outputs": [
    {
     "name": "stdout",
     "output_type": "stream",
     "text": [
      "[Synset('ಮನುಷ್ಯ.noun.196'), Synset('ಮಾನವ.noun.858'), Synset('ಮಾನವ.noun.3389'), Synset('ಮನುಷ್ಯ.noun.22862')]\n"
     ]
    }
   ],
   "source": [
    "print(kannada_iwn.synsets('ಮಾನವ'))"
   ]
  },
  {
   "cell_type": "code",
   "execution_count": 40,
   "metadata": {},
   "outputs": [
    {
     "name": "stdout",
     "output_type": "stream",
     "text": [
      "[Synset('ಗುಡುಗುಡು.noun.37371')]\n"
     ]
    }
   ],
   "source": [
    "print(kannada_iwn.synsets('ಗುಡುಗುಡು'))"
   ]
  },
  {
   "cell_type": "code",
   "execution_count": null,
   "metadata": {},
   "outputs": [],
   "source": []
  }
 ],
 "metadata": {
  "kernelspec": {
   "display_name": "Python 3",
   "language": "python",
   "name": "python3"
  },
  "language_info": {
   "codemirror_mode": {
    "name": "ipython",
    "version": 3
   },
   "file_extension": ".py",
   "mimetype": "text/x-python",
   "name": "python",
   "nbconvert_exporter": "python",
   "pygments_lexer": "ipython3",
   "version": "3.10.12"
  }
 },
 "nbformat": 4,
 "nbformat_minor": 4
}
